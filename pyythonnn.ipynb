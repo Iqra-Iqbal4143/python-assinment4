{
 "cells": [
  {
   "cell_type": "code",
   "execution_count": 1,
   "id": "baacfd61",
   "metadata": {},
   "outputs": [
    {
     "name": "stdout",
     "output_type": "stream",
     "text": [
      "Please select the operation.\n",
      "a. Add\n",
      "b. Subtract\n",
      "c. Multiply\n",
      "d. Divide\n",
      "Please enter choice (a/ b/ c/ d): d\n",
      "Please enter the first number: 899999\n",
      "Please enter the second number: 0000088765\n",
      "899999  /  88765  =  10.13912014870726\n"
     ]
    }
   ],
   "source": [
    "#python calculator\n",
    "def add(P, Q):    \n",
    "   # This function is used for adding two numbers   \n",
    "   return P + Q   \n",
    "def subtract(P, Q):   \n",
    "   # This function is used for subtracting two numbers   \n",
    "   return P - Q   \n",
    "def multiply(P, Q):   \n",
    "   # This function is used for multiplying two numbers   \n",
    "   return P * Q   \n",
    "def divide(P, Q):   \n",
    "   # This function is used for dividing two numbers    \n",
    "   return P / Q    \n",
    "# Now we will take inputs from the user    \n",
    "print (\"Please select the operation.\")    \n",
    "print (\"a. Add\")    \n",
    "print (\"b. Subtract\")    \n",
    "print (\"c. Multiply\")    \n",
    "print (\"d. Divide\")    \n",
    "    \n",
    "choice = input(\"Please enter choice (a/ b/ c/ d): \")    \n",
    "    \n",
    "num_1 = int (input (\"Please enter the first number: \"))    \n",
    "num_2 = int (input (\"Please enter the second number: \"))    \n",
    "    \n",
    "if choice == 'a':    \n",
    "   print (num_1, \" + \", num_2, \" = \", add(num_1, num_2))    \n",
    "    \n",
    "elif choice == 'b':    \n",
    "   print (num_1, \" - \", num_2, \" = \", subtract(num_1, num_2))    \n",
    "    \n",
    "elif choice == 'c':    \n",
    "   print (num1, \" * \", num2, \" = \", multiply(num1, num2))    \n",
    "elif choice == 'd':    \n",
    "   print (num_1, \" / \", num_2, \" = \", divide(num_1, num_2))    \n",
    "else:    \n",
    "   print (\"This is an invalid input\")    \n",
    "\n",
    "\n",
    "\n"
   ]
  },
  {
   "cell_type": "code",
   "execution_count": 2,
   "id": "d48deec9",
   "metadata": {},
   "outputs": [
    {
     "name": "stdout",
     "output_type": "stream",
     "text": [
      "Numeric element exixt  Exists\n"
     ]
    }
   ],
   "source": [
    "#program to check if there is numeric value present in list\n",
    "test = [ \"iqra\", \"iqbal\", \"programmer\", \"datascientist\", 4 ]\n",
    " \n",
    "# Checking if number exists in list\n",
    "for i in test:\n",
    "    if(i == 4) :\n",
    "        print (\"Numeric element exixt  Exists\")"
   ]
  },
  {
   "cell_type": "code",
   "execution_count": 3,
   "id": "388d0248",
   "metadata": {},
   "outputs": [
    {
     "name": "stdout",
     "output_type": "stream",
     "text": [
      "{'name': 'iqra', 'age': 22, 'programing language': 'intermediat'}\n",
      "{'name': 'iqra', 'age': 22, 'programing language': 'intermediat', 'python version': 3}\n",
      "556\n"
     ]
    }
   ],
   "source": [
    "#write script to add key to dictionary \n",
    "dict={\"name\":\"iqra\",\"age\":22,\"programing language\":\"intermediat\"}\n",
    "print(dict)\n",
    "dict.update({\"python version\":3})\n",
    "print(dict)\n",
    "\n",
    "mydict={\"num1\":100,\"num2\":400,\"num3\":56}\n",
    "print(sum(mydict.values()))\n",
    "\n",
    "\n"
   ]
  },
  {
   "cell_type": "code",
   "execution_count": null,
   "id": "8c1e9cfb",
   "metadata": {},
   "outputs": [],
   "source": []
  },
  {
   "cell_type": "code",
   "execution_count": 5,
   "id": "4070ce53",
   "metadata": {},
   "outputs": [
    {
     "name": "stdout",
     "output_type": "stream",
     "text": [
      "556\n"
     ]
    }
   ],
   "source": [
    "#write a script to sum all key elements in dictionary\n",
    "\n",
    "\n",
    "mydict={\"num1\":100,\"num2\":400,\"num3\":56}\n",
    "print(sum(mydict.values()))\n"
   ]
  },
  {
   "cell_type": "code",
   "execution_count": 6,
   "id": "8b931f94",
   "metadata": {},
   "outputs": [
    {
     "name": "stdout",
     "output_type": "stream",
     "text": [
      "dublicate elements in range\n",
      "7\n",
      "8\n"
     ]
    }
   ],
   "source": [
    "#write a program to find dupicat element in dictionary\n",
    "arr=[1,23,4,5,6,7,7,78,8,8,9]\n",
    "print(\"dublicate elements in range\");\n",
    "for i in range(0,len(arr)):\n",
    "    for j in range(i+1,len(arr)):\n",
    "        if(arr[i]==arr[j]):\n",
    "            print(arr[j]);"
   ]
  },
  {
   "cell_type": "code",
   "execution_count": 7,
   "id": "2df3a446",
   "metadata": {},
   "outputs": [
    {
     "name": "stdout",
     "output_type": "stream",
     "text": [
      "key is already present in dictioanary\n",
      "key is not in dictionary\n"
     ]
    }
   ],
   "source": [
    "#write a program to check if given key already exist or not\n",
    "dict={1:\"apple\",2:\"banana\",3:\"carrot\",4:50,5:\"orange\"}\n",
    "def is_key_present(x):\n",
    "    if x in dict:\n",
    "        print(\"key is already present in dictioanary\")\n",
    "    else:\n",
    "        print(\"key is not in dictionary\")\n",
    "is_key_present(5)\n",
    "is_key_present(6)\n"
   ]
  },
  {
   "cell_type": "code",
   "execution_count": null,
   "id": "1ddeb5ac",
   "metadata": {},
   "outputs": [],
   "source": []
  }
 ],
 "metadata": {
  "kernelspec": {
   "display_name": "Python 3",
   "language": "python",
   "name": "python3"
  },
  "language_info": {
   "codemirror_mode": {
    "name": "ipython",
    "version": 3
   },
   "file_extension": ".py",
   "mimetype": "text/x-python",
   "name": "python",
   "nbconvert_exporter": "python",
   "pygments_lexer": "ipython3",
   "version": "3.8.8"
  }
 },
 "nbformat": 4,
 "nbformat_minor": 5
}
